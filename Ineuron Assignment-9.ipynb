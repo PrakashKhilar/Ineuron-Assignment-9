{
 "cells": [
  {
   "cell_type": "markdown",
   "id": "52987e06",
   "metadata": {},
   "source": [
    "# Ineuron Assignment-9"
   ]
  },
  {
   "cell_type": "code",
   "execution_count": 1,
   "id": "26127463",
   "metadata": {},
   "outputs": [],
   "source": [
    "# Q1 : To what does a relative path refer ?\n"
   ]
  },
  {
   "cell_type": "code",
   "execution_count": 2,
   "id": "27f853ce",
   "metadata": {},
   "outputs": [],
   "source": [
    "# Ans;\n",
    "# Relative paths are relative to the current working directory."
   ]
  },
  {
   "cell_type": "code",
   "execution_count": 3,
   "id": "5f4c0f9b",
   "metadata": {},
   "outputs": [],
   "source": [
    "# Q2 : What does an absolute path start with your operating system ?"
   ]
  },
  {
   "cell_type": "code",
   "execution_count": 4,
   "id": "9ebd0d78",
   "metadata": {},
   "outputs": [],
   "source": [
    "# Answer :\n",
    "#Absolute paths start with the root folder, such as / or C:\\."
   ]
  },
  {
   "cell_type": "code",
   "execution_count": null,
   "id": "3f409583",
   "metadata": {},
   "outputs": [],
   "source": [
    "# Q3 : What do the functions os.getcwd() and os.chdir() do?\n",
    "\n",
    "# Answer :\n",
    "# os.getcwd() returns the current working directory.\n",
    "\n",
    "# os.chdir() function changes the current working directory"
   ]
  },
  {
   "cell_type": "code",
   "execution_count": 8,
   "id": "054ca9f7",
   "metadata": {},
   "outputs": [
    {
     "name": "stdout",
     "output_type": "stream",
     "text": [
      "C:\\Users\\prakash\n"
     ]
    }
   ],
   "source": [
    "import os\n",
    "path = os.getcwd()\n",
    "print(path)"
   ]
  },
  {
   "cell_type": "code",
   "execution_count": 9,
   "id": "3cc4ebeb",
   "metadata": {},
   "outputs": [
    {
     "name": "stdout",
     "output_type": "stream",
     "text": [
      "C:\\Users\n"
     ]
    }
   ],
   "source": [
    "os.chdir('../')\n",
    "\n",
    "print(os.getcwd())"
   ]
  },
  {
   "cell_type": "code",
   "execution_count": 10,
   "id": "3ebc6228",
   "metadata": {},
   "outputs": [],
   "source": [
    "# Q4 : What are the . and .. folders?\n"
   ]
  },
  {
   "cell_type": "code",
   "execution_count": 11,
   "id": "0efbf875",
   "metadata": {},
   "outputs": [],
   "source": [
    "# Answer;\n",
    "\n",
    "# The . folder is the current folder.\n",
    "# .. is the parent folder."
   ]
  },
  {
   "cell_type": "code",
   "execution_count": 14,
   "id": "d23b6657",
   "metadata": {},
   "outputs": [
    {
     "data": {
      "text/plain": [
       "<module 'os' from 'C:\\\\Users\\\\prakash\\\\anaconda3\\\\lib\\\\os.py'>"
      ]
     },
     "execution_count": 14,
     "metadata": {},
     "output_type": "execute_result"
    }
   ],
   "source": [
    "os\n",
    "        "
   ]
  },
  {
   "cell_type": "code",
   "execution_count": 17,
   "id": "afbeab1f",
   "metadata": {},
   "outputs": [],
   "source": [
    "# Q5 :In C:\\bacon\\eggs\\spam.txt, which part is the dir name, and which part is the base name?"
   ]
  },
  {
   "cell_type": "code",
   "execution_count": 18,
   "id": "bea77494",
   "metadata": {},
   "outputs": [],
   "source": [
    "# Answer ;\n",
    "\n",
    "# C:\\bacon\\eggs is the dir name, while spam.txt is the base name."
   ]
  },
  {
   "cell_type": "code",
   "execution_count": 24,
   "id": "087d1a84",
   "metadata": {},
   "outputs": [],
   "source": [
    "import os \n",
    "cwd = os.getcwd()    "
   ]
  },
  {
   "cell_type": "code",
   "execution_count": 25,
   "id": "cf66e15f",
   "metadata": {},
   "outputs": [
    {
     "data": {
      "text/plain": [
       "'C:\\\\Users'"
      ]
     },
     "execution_count": 25,
     "metadata": {},
     "output_type": "execute_result"
    }
   ],
   "source": [
    "cwd"
   ]
  },
  {
   "cell_type": "code",
   "execution_count": 26,
   "id": "15840d79",
   "metadata": {},
   "outputs": [],
   "source": [
    "# Q6 : What are the three “mode” arguments that can be passed to the open() function ?"
   ]
  },
  {
   "cell_type": "code",
   "execution_count": 27,
   "id": "5d2dc08f",
   "metadata": {},
   "outputs": [],
   "source": [
    "# Answer;\n",
    "# r' for read mode, 'w' for write mode, 'a' for append mode"
   ]
  },
  {
   "cell_type": "code",
   "execution_count": 28,
   "id": "98be1b89",
   "metadata": {},
   "outputs": [],
   "source": [
    "# Q7 : What happens if an existing file is opened in write mode?"
   ]
  },
  {
   "cell_type": "code",
   "execution_count": 29,
   "id": "3efb6381",
   "metadata": {},
   "outputs": [],
   "source": [
    "# Answer;\n",
    "# An existing file opened in write mode is erased and completely overwritten."
   ]
  },
  {
   "cell_type": "code",
   "execution_count": 30,
   "id": "599b4bd4",
   "metadata": {},
   "outputs": [],
   "source": [
    "# Q8 : How do you tell the difference between read() and readlines()?"
   ]
  },
  {
   "cell_type": "code",
   "execution_count": 31,
   "id": "3f49a112",
   "metadata": {},
   "outputs": [],
   "source": [
    "# Answer;\n",
    "\n",
    "# The read() method returns the file's entire contents as a single string value.\n",
    "# The readlines() method returns a list of strings, where each string is a line from the file's contents."
   ]
  },
  {
   "cell_type": "code",
   "execution_count": 32,
   "id": "16c42f2f",
   "metadata": {},
   "outputs": [],
   "source": [
    "# Q9 : What data structure does a shelf value resemble?\n"
   ]
  },
  {
   "cell_type": "code",
   "execution_count": null,
   "id": "24083f35",
   "metadata": {},
   "outputs": [],
   "source": [
    "# Answer;\n",
    "# A shelf value resembles a dictionary value; it has keys and values, along with keys() and values() methods that work similarly to the dictionary methods of the same names."
   ]
  }
 ],
 "metadata": {
  "kernelspec": {
   "display_name": "Python 3 (ipykernel)",
   "language": "python",
   "name": "python3"
  },
  "language_info": {
   "codemirror_mode": {
    "name": "ipython",
    "version": 3
   },
   "file_extension": ".py",
   "mimetype": "text/x-python",
   "name": "python",
   "nbconvert_exporter": "python",
   "pygments_lexer": "ipython3",
   "version": "3.9.12"
  }
 },
 "nbformat": 4,
 "nbformat_minor": 5
}
